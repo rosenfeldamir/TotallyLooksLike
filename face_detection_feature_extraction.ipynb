{
 "cells": [
  {
   "cell_type": "markdown",
   "metadata": {},
   "source": [
    "# Detect all faces, extract facial features, save sub-images of faces."
   ]
  },
  {
   "cell_type": "code",
   "execution_count": 2,
   "metadata": {},
   "outputs": [
    {
     "name": "stdout",
     "output_type": "stream",
     "text": [
      "Populating the interactive namespace from numpy and matplotlib\n"
     ]
    }
   ],
   "source": [
    "%pylab inline\n",
    "\n",
    "import os\n",
    "import PIL\n",
    "from PIL import Image\n",
    "from torch.autograd import Variable\n",
    "from glob import glob\n",
    "import pickle\n",
    "from tqdm import tqdm\n",
    "\n",
    "def readAndSplit(p):\n",
    "    I = imread(p)\n",
    "    I = I[:245,:400,:3]\n",
    "    s = hsplit(I,2)\n",
    "    return s[0],s[1]"
   ]
  },
  {
   "cell_type": "code",
   "execution_count": 3,
   "metadata": {},
   "outputs": [],
   "source": [
    "import face_recognition\n",
    "baseDir = os.path.join(os.path.expanduser('~/TotallyLooksLike'))\n",
    "imageDir=os.path.join(baseDir,'Images')\n",
    "outputDir=os.path.join(baseDir,'results')\n",
    "# just the faces.\n",
    "imageNames = []\n",
    "G = sorted(glob(os.path.join(imageDir,'*.jpg')))\n",
    "faces_path = os.path.join(outputDir,'faces.pkl')"
   ]
  },
  {
   "cell_type": "code",
   "execution_count": 4,
   "metadata": {},
   "outputs": [],
   "source": [
    "import face_recognition\n",
    "baseDir = os.path.join(os.path.expanduser('~/TotallyLooksLike'))\n",
    "imageDir=os.path.join(baseDir,'Images')\n",
    "outputDir=os.path.join(baseDir,'results')\n",
    "# just the faces.\n",
    "imageNames = []\n",
    "G = sorted(glob(os.path.join(imageDir,'*.jpg')))\n",
    "faces_path = os.path.join(outputDir,'faces.pkl')\n",
    "if os.path.isfile(faces_path):\n",
    "    imgs_to_faces = pickle.load(open(faces_path,'rb'))\n",
    "else:\n",
    "    imgs_to_faces={}\n",
    "    for imgPath in tqdm(G):\n",
    "        image = face_recognition.load_image_file(imgPath)\n",
    "        face_locations = face_recognition.face_locations(image, number_of_times_to_upsample=0, model=\"cnn\")\n",
    "        # face_locations is a list of : [top, right, bottom,left]\n",
    "        # to crop: face_image = image[top:bottom, left:right]\n",
    "        imgs_to_faces[imgPath.split('/')[-1]] = face_locations\n",
    "    \n",
    "    pickle.dump(imgs_to_faces,open(faces_path,'wb'))"
   ]
  },
  {
   "cell_type": "code",
   "execution_count": 5,
   "metadata": {},
   "outputs": [],
   "source": [
    "# faces, locations, encodings, face images.\n",
    "imageNames = []\n",
    "import PIL\n",
    "from PIL import Image\n",
    "from torch.autograd import Variable\n",
    "import os\n",
    "from glob import glob\n",
    "import pickle\n",
    "from tqdm import tqdm\n",
    "\n",
    "G = sorted(glob(os.path.join(imageDir,'*.jpg')))\n",
    "faces_enc_path = os.path.join(outputDir,'face_encodings.pkl')\n",
    "if os.path.isfile(faces_enc_path):\n",
    "    imgs_to_face_enc = pickle.load(open(faces_enc_path,'rb'))\n",
    "\n",
    "else:\n",
    "    imgs_to_face_enc={}\n",
    "    #for ii,imgPath in enumerate(G):#tqdm(G):\n",
    "    for imgPath in tqdm(G):        \n",
    "        #image = face_recognition.load_image_file(imgPath)\n",
    "        \n",
    "        #face_locations = face_recognition.face_locations(image, number_of_times_to_upsample=0, model=\"cnn\")\n",
    "        # face_locations is a list of : [top, right, bottom,left]\n",
    "        # to crop: face_image = image[top:bottom, left:right]\n",
    "        #I = imread(imgPath)\n",
    "        #print(I.shape)\n",
    "        s = readAndSplit(imgPath)\n",
    "        leftImage = s[0]\n",
    "        rightImage = s[1]\n",
    "        break\n",
    "        face_locations_left = face_recognition.face_locations(leftImage, number_of_times_to_upsample=0, model=\"cnn\")\n",
    "        face_locations_right = face_recognition.face_locations(rightImage, number_of_times_to_upsample=0, model=\"cnn\")\n",
    "        left_face_enc = face_recognition.face_encodings(leftImage,known_face_locations=face_locations_left)\n",
    "        right_face_enc = face_recognition.face_encodings(rightImage,known_face_locations=face_locations_right)\n",
    "        \n",
    "        # also keep all the face images.\n",
    "        left_face_imgs = []\n",
    "        right_face_imgs = []        \n",
    "        \n",
    "        for top, right, bottom, left in face_locations_left:\n",
    "            left_face_imgs.append(leftImage[top:bottom, left:right])\n",
    "        for top, right, bottom, left in face_locations_right:            \n",
    "            right_face_imgs.append(rightImage[top:bottom, left:right])\n",
    "                \n",
    "        imgs_to_face_enc[imgPath.split('/')[-1]] = dict(left_enc=left_face_enc,\n",
    "                                                        right_enc=right_face_enc,\n",
    "                                                        left_loc=face_locations_left,\n",
    "                                                        right_loc=face_locations_right,\n",
    "                                                        left_face_imgs=left_face_imgs,\n",
    "                                                        right_face_imgs=right_face_imgs)\n",
    "                                      \n",
    "    pickle.dump(imgs_to_face_enc,open(faces_enc_path,'wb'),protocol=2); # for compatability with python 2.7"
   ]
  }
 ],
 "metadata": {
  "anaconda-cloud": {},
  "kernelspec": {
   "display_name": "Python [conda env:pt3]",
   "language": "python",
   "name": "conda-env-pt3-py"
  },
  "language_info": {
   "codemirror_mode": {
    "name": "ipython",
    "version": 3
   },
   "file_extension": ".py",
   "mimetype": "text/x-python",
   "name": "python",
   "nbconvert_exporter": "python",
   "pygments_lexer": "ipython3",
   "version": "3.6.4"
  },
  "toc": {
   "base_numbering": 1,
   "nav_menu": {
    "height": "11px",
    "width": "252px"
   },
   "number_sections": true,
   "sideBar": true,
   "skip_h1_title": false,
   "title_cell": "Table of Contents",
   "title_sidebar": "Contents",
   "toc_cell": false,
   "toc_position": {},
   "toc_section_display": "block",
   "toc_window_display": false
  }
 },
 "nbformat": 4,
 "nbformat_minor": 1
}
