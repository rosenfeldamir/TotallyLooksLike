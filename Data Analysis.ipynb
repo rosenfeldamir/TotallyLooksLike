{
 "cells": [
  {
   "cell_type": "markdown",
   "metadata": {
    "collapsed": true
   },
   "source": [
    "# Extracting visual features from the TotallyLooksLike Dataset"
   ]
  },
  {
   "cell_type": "code",
   "execution_count": 534,
   "metadata": {},
   "outputs": [
    {
     "name": "stdout",
     "output_type": "stream",
     "text": [
      "Populating the interactive namespace from numpy and matplotlib\n"
     ]
    }
   ],
   "source": [
    "%pylab inline\n",
    "from scipy.spatial.distance import cdist\n",
    "# basic function for reading an image pair and splitting to left and right halves\n",
    "# and other utility functions\n",
    "def readAndSplit(p):\n",
    "    I = imread(p)\n",
    "    I = I[:245,:400,:3]\n",
    "    s = hsplit(I,2)\n",
    "    return s[0],s[1]\n",
    "  \n",
    "# now we extract features from all left and right images.\n",
    "\n",
    "\n",
    "import errno    \n",
    "import os\n",
    "def mkdir_p(path):\n",
    "    try:\n",
    "        os.makedirs(path)\n",
    "    except OSError as exc:  # Python >2.5\n",
    "        if exc.errno == errno.EEXIST and os.path.isdir(path):\n",
    "            pass\n",
    "        else:\n",
    "            raise\n",
    "\n",
    "# Let's make a bunch of models.\n",
    "\n",
    "toSaveFigures = False\n",
    "saveFigsBaseDir = 'figures'"
   ]
  },
  {
   "cell_type": "markdown",
   "metadata": {},
   "source": [
    "# Feature Extraction\n",
    "## Generic Features"
   ]
  },
  {
   "cell_type": "code",
   "execution_count": 535,
   "metadata": {
    "collapsed": true
   },
   "outputs": [
    {
     "name": "stdout",
     "output_type": "stream",
     "text": [
      "extracting features using all networks...\n",
      "checking for /home/amir/TotallyLooksLike/results/resnet18.pkl ...\n",
      "exists! - skipping\n",
      "checking for /home/amir/TotallyLooksLike/results/resnet50.pkl ...\n",
      "exists! - skipping\n",
      "checking for /home/amir/TotallyLooksLike/results/vgg16.pkl ...\n",
      "exists! - skipping\n",
      "checking for /home/amir/TotallyLooksLike/results/densenet201.pkl ...\n",
      "exists! - skipping\n",
      "checking for /home/amir/TotallyLooksLike/results/densenet121.pkl ...\n",
      "exists! - skipping\n",
      "checking for /home/amir/TotallyLooksLike/results/resnet152.pkl ...\n",
      "exists! - skipping\n",
      "checking for /home/amir/TotallyLooksLike/results/densenet169.pkl ...\n",
      "exists! - skipping\n",
      "checking for /home/amir/TotallyLooksLike/results/alexnet.pkl ...\n",
      "exists! - skipping\n",
      "DONE\n"
     ]
    }
   ],
   "source": [
    "\n",
    "import pickle\n",
    "\n",
    "import torch,os\n",
    "from glob import glob\n",
    "import torch.nn as nn\n",
    "from torchvision import models\n",
    "from torchvision import transforms\n",
    "normalize = transforms.Normalize(\n",
    "   mean=[0.485, 0.456, 0.406],\n",
    "   std=[0.229, 0.224, 0.225]\n",
    ")\n",
    "preprocess = transforms.Compose([\n",
    "   transforms.Scale(256),\n",
    "   transforms.CenterCrop(224),\n",
    "   transforms.ToTensor(),\n",
    "   normalize\n",
    "])\n",
    "networks = dict(resnet18 = models.resnet18,\n",
    "                resnet50 = models.resnet50,\n",
    "                resnet152 = models.resnet152,\n",
    "                densenet121 = models.densenet121,\n",
    "                densenet169 = models.densenet169,\n",
    "                densenet201 = models.densenet201,\n",
    "                alexnet = models.alexnet,\n",
    "                vgg16=models.vgg16)\n",
    "class VGG_features(nn.Module):\n",
    "    def __init__(self, vgg_net):\n",
    "        super(VGG_features, self).__init__()\n",
    "        self.vgg_net = vgg_net\n",
    "        self.C = nn.Sequential(*list(vgg_net.classifier.children())[:-2])\n",
    "    def forward(self, x):\n",
    "        x = self.vgg_net.features(x)\n",
    "        x = x.view(x.size(0), -1)\n",
    "        x = self.C(x)\n",
    "        return x\n",
    "def getNetwork(networkName):   \n",
    "    model = networks[networkName](pretrained=True)\n",
    "    if 'resnet' in networkName:        \n",
    "        model = nn.Sequential(*list(model.children())[:-1])\n",
    "    elif 'densenet' in networkName:\n",
    "        return nn.Sequential(model.features,nn.AvgPool2d(7,stride=1))\n",
    "    else:\n",
    "        assert 'vgg' in networkName or 'alexnet' in networkName\n",
    "        return VGG_features(model)\n",
    "    return model\n",
    "homedir=os.path.expanduser('~')\n",
    "baseDir = os.path.join(homedir,'TotallyLooksLike')\n",
    "imageDir=os.path.join(baseDir,'Images')\n",
    "outputDir=os.path.join(baseDir,'results')\n",
    "\n",
    "imageNames = []\n",
    "import PIL\n",
    "from PIL import Image\n",
    "from torch.autograd import Variable\n",
    "import os\n",
    "import cPickle as pickle\n",
    "from tqdm import tqdm\n",
    "print 'extracting features using all networks...'\n",
    "G = sorted(glob(os.path.join(imageDir,'*.jpg'))) # get all images names, sorted \n",
    "for networkName,networkFun in networks.items():\n",
    "    curOutPath = os.path.join(outputDir,networkName+'.pkl')\n",
    "    print 'checking for',curOutPath,'...'\n",
    "    if os.path.isfile(curOutPath):\n",
    "        print 'exists! - skipping'\n",
    "        continue\n",
    "    m = getNetwork(networkName)    \n",
    "    m.eval()\n",
    "    print 'networkName',networkName    \n",
    "    m.cuda();\n",
    "    leftResults = []\n",
    "    rightResults = []\n",
    "    for imgPath in tqdm(G):\n",
    "        #resPath = imgPath.replace('.jpg','.pkl')\n",
    "        #if os.path.isfile(resPath):\n",
    "        #    continue\n",
    "        #print imgPath\n",
    "        I = imread(imgPath)[:,:,:3]\n",
    "        I = I[:245,:400,:]\n",
    "        s = hsplit(I,2)\n",
    "        curImage = s[0]\n",
    "        leftResult = m(Variable(preprocess(Image.fromarray(curImage)).unsqueeze(0).cuda())).squeeze().data.cpu().numpy()\n",
    "        curImage = s[1]\n",
    "        rightResult = m(Variable(preprocess(Image.fromarray(curImage)).unsqueeze(0).cuda())).squeeze().data.cpu().numpy()\n",
    "        \n",
    "        leftResults.append(leftResult)\n",
    "        rightResults.append(rightResult)\n",
    "        \n",
    "    pickle.dump(dict(leftResults=leftResults,rightResults=rightResults,G=G),open(curOutPath,'wb'))        \n",
    "    #pickle.dump(d\n",
    "print 'DONE'"
   ]
  },
  {
   "cell_type": "markdown",
   "metadata": {},
   "source": [
    "## Generic Face Features"
   ]
  },
  {
   "cell_type": "code",
   "execution_count": 11,
   "metadata": {},
   "outputs": [
    {
     "name": "stdout",
     "output_type": "stream",
     "text": [
      "generic face features exist - skipping.\n"
     ]
    }
   ],
   "source": [
    "m = getNetwork('densenet121')\n",
    "m.eval()\n",
    "m.cuda()\n",
    "faces_generic_feats = {}\n",
    "curOutPath = os.path.join(outputDir,'faces_generic_feats.pkl')\n",
    "if os.path.isfile(curOutPath):\n",
    "    print 'generic face features exist - skipping.' \n",
    "    faces_generic_feats = pickle.load(open(curOutPath,'rb'))    \n",
    "else:\n",
    "    for k,v in tqdm(a.items()):\n",
    "        left_feats = []\n",
    "        right_feats = []\n",
    "        for img in v['left_face_imgs']:\n",
    "            res = m(Variable(preprocess(Image.fromarray(img)).unsqueeze(0).cuda())).squeeze().data.cpu().numpy()\n",
    "            left_feats.append(res)\n",
    "        for img in v['right_face_imgs']:\n",
    "            res = m(Variable(preprocess(Image.fromarray(img)).unsqueeze(0).cuda())).squeeze().data.cpu().numpy()\n",
    "            right_feats.append(res)\n",
    "        faces_generic_feats[k]=dict(left_feats=left_feats,right_feats=right_feats)    \n",
    "    print('dumping')\n",
    "    pickle.dump(faces_generic_feats,open(curOutPath,'wb'),protocol=2)"
   ]
  },
  {
   "cell_type": "markdown",
   "metadata": {},
   "source": [
    "# Analysis"
   ]
  },
  {
   "cell_type": "markdown",
   "metadata": {},
   "source": [
    "## Face detection stats."
   ]
  },
  {
   "cell_type": "code",
   "execution_count": 537,
   "metadata": {},
   "outputs": [
    {
     "data": {
      "image/png": "[encoded data removed]",
      "text/plain": [
       "<Figure size 432x288 with 1 Axes>"
      ]
     },
     "metadata": {},
     "output_type": "display_data"
    }
   ],
   "source": [
    "# let's show both the correlation between the number of left, right faces, as well as the distribution of faces overall.\n",
    "face_enc_path = os.path.join(outputDir,'face_encodings.pkl')\n",
    "a = pickle.load(open(face_enc_path,'rb'))\n",
    "import seaborn as sns\n",
    "n_faces_left = zeros(len(a))\n",
    "n_faces_right = zeros(len(a))\n",
    "for i,aa in enumerate(a.values()):\n",
    "    n_faces_left[i]=len(aa['left_enc'])\n",
    "    n_faces_right[i]=len(aa['right_enc'])\n",
    "    \n",
    "# plot for each condition the number of total faces and the agreement\n",
    "r = []\n",
    "r_left = []\n",
    "r_right = []\n",
    "R=4\n",
    "for cc in range(R):\n",
    "    c=n_faces_left==cc\n",
    "    r.append(sum(logical_and(n_faces_left==cc,n_faces_right==cc)))\n",
    "    r_left.append(sum(n_faces_left==cc))\n",
    "    r_right.append(sum(n_faces_right==cc))\n",
    "    #r.append(sum(n_faces_left[c]==n_faces_right[c])/float(sum(c)))\n",
    "    #r_left = len(n_faces_left[c])\n",
    "ax = plt.subplot(111)\n",
    "w = 0.3\n",
    "x=array(range(R)).astype(float)\n",
    "ax.bar(x-w, r,width=w,label='both')#,color='b',align='center')\n",
    "ax.bar(x, r_left,width=w,label='left')#,color='g',align='center')\n",
    "ax.bar(x+w, r_right,width=w,label='right')#,color='r',align='center')\n",
    "legend()\n",
    "xlabel('no. faces')\n",
    "ylabel('no. images')\n",
    "\n",
    "if toSaveFigures:\n",
    "  savefig(os.path.join(saveFigsBaseDir,'face_counts.pdf'),bbox_inches='tight')\n",
    "#bar(height=[r,r_left,r_right])"
   ]
  },
  {
   "cell_type": "markdown",
   "metadata": {},
   "source": [
    "# Compute all pairwise distances\n",
    "## Left-to-RightDistances"
   ]
  },
  {
   "cell_type": "code",
   "execution_count": 13,
   "metadata": {},
   "outputs": [
    {
     "name": "stdout",
     "output_type": "stream",
     "text": [
      "/home/amir/TotallyLooksLike/results/resnet18.pkl.dist exist - skipping\n",
      "/home/amir/TotallyLooksLike/results/resnet50.pkl.dist exist - skipping\n",
      "/home/amir/TotallyLooksLike/results/vgg16.pkl.dist exist - skipping\n",
      "/home/amir/TotallyLooksLike/results/densenet201.pkl.dist exist - skipping\n",
      "/home/amir/TotallyLooksLike/results/densenet121.pkl.dist exist - skipping\n",
      "/home/amir/TotallyLooksLike/results/resnet152.pkl.dist exist - skipping\n",
      "/home/amir/TotallyLooksLike/results/densenet169.pkl.dist exist - skipping\n",
      "/home/amir/TotallyLooksLike/results/alexnet.pkl.dist exist - skipping\n"
     ]
    }
   ],
   "source": [
    "# ok, now let's compute the pairwise distances between all left/right images.\n",
    "for networkName,networkFun in networks.items():\n",
    "    curOutPath = os.path.join(outputDir,networkName+'.pkl')\n",
    "    dists_out_path = curOutPath+'.dist'    \n",
    "    if os.path.isfile(dists_out_path):\n",
    "        print dists_out_path,'exist - skipping'\n",
    "        continue\n",
    "    else:\n",
    "        print 'calculating distances....',\n",
    "        a = pickle.load(open(curOutPath))\n",
    "        L = stack(a['leftResults'])\n",
    "        R = stack(a['rightResults'])\n",
    "        D = cdist(L,R)\n",
    "        D1 = cdist(L,R,metric='cosine')\n",
    "        pickle.dump(dict(D_euclid=D.astype(float32),D_cosine=D1.astype(float32),G=G),open(dists_out_path,'wb'),protocol=2)\n",
    "        print('done!')\n",
    "        \n",
    "# calculate the inner distance to decide which pairs to discard"
   ]
  },
  {
   "cell_type": "markdown",
   "metadata": {},
   "source": [
    "## Internal distances\n",
    "### Generic Features"
   ]
  },
  {
   "cell_type": "code",
   "execution_count": 14,
   "metadata": {},
   "outputs": [
    {
     "name": "stdout",
     "output_type": "stream",
     "text": [
      "('generic features', '/home/amir/TotallyLooksLike/results/generic_inner_distances.pkl', 'exists - skipping')\n"
     ]
    }
   ],
   "source": [
    "curOutPath=os.path.join(outputDir,'densenet121.pkl')\n",
    "generic_inner_path = os.path.join(outputDir,'generic_inner_distances.pkl')\n",
    "if os.path.isfile(generic_inner_path):\n",
    "    print('generic features',generic_inner_path,'exists - skipping')\n",
    "    generic_inner_dists_sorted = pickle.load(open(generic_inner_path))\n",
    "else:\n",
    "    a = pickle.load(open(curOutPath))\n",
    "    L = stack(a['leftResults'])\n",
    "    R = stack(a['rightResults'])\n",
    "    print 'computing inner left distances'\n",
    "    D1_LL = cdist(L,L,metric='cosine').astype(float32)\n",
    "    print 'computing inner right distances'\n",
    "    D1_RR = cdist(R,R,metric='cosine').astype(float32)\n",
    "    #L_sorted = D1_LL.argsort(1).astype(int16)\n",
    "    #R_sorted = D1_RR.argsort(1).astype(int16)\n",
    "    generic_inner_dists_sorted = dict(D1_LL=D1_LL, D1_RR=D1_RR)\n",
    "    print('dumping...')\n",
    "    #pickle.dump(generic_inner_dists_sorted, open(generic_inner_path,'wb'), protocol=2)\n",
    "    "
   ]
  },
  {
   "cell_type": "markdown",
   "metadata": {},
   "source": [
    "### Face features"
   ]
  },
  {
   "cell_type": "code",
   "execution_count": 15,
   "metadata": {},
   "outputs": [
    {
     "name": "stdout",
     "output_type": "stream",
     "text": [
      "left_enc\n",
      "file already exists - loading pre-computed... done\n",
      "left_enc\n",
      "file already exists - loading pre-computed... done\n",
      "right_enc\n",
      "file already exists - loading pre-computed... done\n",
      "right_enc\n",
      "file already exists - loading pre-computed... done\n"
     ]
    }
   ],
   "source": [
    "# left-left faces and right-right faces.\n",
    "side1 = 'left_enc'\n",
    "side2 = 'right_enc'\n",
    "for cur_side in [side1,side2]:\n",
    "    for is_generic in [False,True]:\n",
    "        print cur_side\n",
    "        G = sorted(glob(os.path.join(imageDir,'*.jpg')))\n",
    "        if is_generic:\n",
    "            face_dists_path_inner = os.path.join(outputDir,'faces_generic_dists_inner_{}.pkl'.format(cur_side)) \n",
    "            chosen_metric = 'cosine'\n",
    "        else:\n",
    "            face_dists_path_inner = os.path.join(outputDir,'faces_dists_inner_{}.pkl'.format(cur_side)) \n",
    "            chosen_metric='euclidean'\n",
    "        if os.path.isfile(face_dists_path_inner):\n",
    "            print 'file already exists - loading pre-computed...',\n",
    "            face_dists = pickle.load(open(face_dists_path_inner,'rb'))\n",
    "            print 'done'\n",
    "        else:\n",
    "            if is_generic:\n",
    "                print 'loading generic feats....'\n",
    "                face_enc_path = os.path.join(outputDir,'faces_generic_feats.pkl')\n",
    "                cur_side = 'left_feats' if cur_side==side1 else 'right_feats' # small fix because of inconsistent naming.\n",
    "            else:\n",
    "                face_enc_path = os.path.join(outputDir,'face_encodings.pkl')\n",
    "            a = pickle.load(open(face_enc_path,'rb'))\n",
    "            sorted_files = [g.split('/')[-1] for g in G]\n",
    "            n_images = len(sorted_files)\n",
    "            print n_images\n",
    "            face_dists_inner = 10**9*np.ones((n_images,n_images),dtype=float32)\n",
    "            dd = {}\n",
    "            for i,s_i in enumerate(sorted_files):\n",
    "                if i % 100 == 0:\n",
    "                    print\n",
    "                left_feats = a[s_i][cur_side]\n",
    "                if len(left_feats) == 0:\n",
    "                    print '-',\n",
    "                    continue\n",
    "                print '*',\n",
    "                left_feats=stack(left_feats)\n",
    "                for j,s_j in enumerate(sorted_files):\n",
    "                    left_feats1 = a[s_j][cur_side]\n",
    "                    if len(left_feats1) == 0:\n",
    "                        continue\n",
    "                    left_feats1=stack(left_feats1)                \n",
    "                    face_dists_inner[i,j] = min(face_dists_inner[i,j], cdist(left_feats,left_feats1,metric=chosen_metric).ravel().min())\n",
    "            dd[cur_side] = face_dists_inner.astype(float32)\n",
    "            print('dumping...')\n",
    "            pickle.dump(dd,open(face_dists_path_inner,'wb'),protocol=2)"
   ]
  },
  {
   "cell_type": "markdown",
   "metadata": {},
   "source": [
    "# Analyze internal distances to detect duplicates."
   ]
  },
  {
   "cell_type": "code",
   "execution_count": 16,
   "metadata": {},
   "outputs": [],
   "source": [
    "def makeDupsGallery(dists,mins,thresh=.15,suff='',sides=[0,0]):\n",
    "    G = sorted(glob(os.path.join(imageDir,'*.jpg')))\n",
    "    outDir = '/media/amir/newhd/TotallyLooksLike/sorted_for_dups_{}/'.format(suff)\n",
    "    if not os.path.isdir(outDir):\n",
    "        os.mkdir(outDir)\n",
    "    for k in range(len(dists)):\n",
    "        if k % 100 == 0:\n",
    "            print '.',k,\n",
    "        d = dists[k]\n",
    "        dd = mins[k]\n",
    "        cur_dist = d\n",
    "        if cur_dist > thresh:\n",
    "            continue\n",
    "        z=[ readAndSplit(G[k])[sides[0]]    ,readAndSplit(G[dd])[sides[1]]]\n",
    "        imsave('{}/{:02.10f}_{}.jpg'.format(outDir,d,str(k).zfill(5)),hstack(z),format='jpg')\n",
    "        if k > 1000:\n",
    "            break\n",
    "    #4242\n",
    "#right_dists_second = D1_RR[:,1]"
   ]
  },
  {
   "cell_type": "code",
   "execution_count": 538,
   "metadata": {},
   "outputs": [],
   "source": [
    "\n",
    "from copy import deepcopy\n",
    "generic_dup_threshold = .15\n",
    "face_dup_threshold = .4\n",
    "a = pickle.load(open(generic_inner_path))\n",
    "#L_sorted = D1_LL.argsort(1).astype(int16)\n",
    "#R_sorted = D1_RR.argsort(1).astype(int16)\n",
    "D1_LL = deepcopy(a['D1_LL'])\n",
    "D1_LL = D1_LL+eye(len(D1_RR))*100;\n",
    "mins  = D1_LL.argmin(1)\n",
    "dists = D1_LL.min(1)\n",
    "dists_left = D1_LL.min(1)\n",
    "\n",
    "\n",
    "D1_RR = deepcopy(a['D1_RR'])\n",
    "D1_RR = D1_RR+eye(len(D1_RR))*100;\n",
    "mins  = D1_RR.argmin(1)\n",
    "dists_right = D1_RR.min(1)\n",
    "#makeDupsGallery(dists_right,mins,10,'generic_RR')\n",
    "#makeDupsGallery(dists,mins,10,'generic_LL',[0,0])"
   ]
  },
  {
   "cell_type": "code",
   "execution_count": 539,
   "metadata": {},
   "outputs": [
    {
     "name": "stdout",
     "output_type": "stream",
     "text": [
      "loading...\n"
     ]
    }
   ],
   "source": [
    "# Now, let us look at cross-duplicates.\n",
    "networkName='densenet121'       \n",
    "curOutPath = os.path.join(outputDir,networkName+'.pkl')\n",
    "dists_out_path = curOutPath+'.dist'\n",
    "print 'loading...'\n",
    "a = pickle.load(open(dists_out_path))\n",
    "a1 = deepcopy(a['D_cosine'])\n",
    "a1 = a1 +100*eye(size(a1[0]))\n",
    "cross_dists = a1.min(1)\n",
    "cross_mins = a1.argmin(1)"
   ]
  },
  {
   "cell_type": "code",
   "execution_count": 621,
   "metadata": {},
   "outputs": [],
   "source": [
    "right_generic_thresh=.1\n",
    "is_dup_right = dists_right <=right_generic_thresh\n",
    "is_dup_left = dists_left <=right_generic_thresh\n"
   ]
  },
  {
   "cell_type": "code",
   "execution_count": 542,
   "metadata": {},
   "outputs": [],
   "source": [
    "face_dists_path_inner_left = os.path.join(outputDir,'faces_dists_inner_{}.pkl'.format(side1)) \n",
    "face_dists = pickle.load(open(face_dists_path_inner_left,'rb'))\n",
    "D1_LL = deepcopy(face_dists[side1])\n",
    "D1_LL.sort(1);\n",
    "face_dists_path_inner_right = os.path.join(outputDir,'faces_dists_inner_{}.pkl'.format(side2));\n",
    "face_dists = pickle.load(open(face_dists_path_inner_right,'rb'))\n",
    "D1_RR = deepcopy(face_dists[side2])\n",
    "D1_RR.sort(1);\n",
    "left_dists_second=D1_LL[:,1]\n",
    "right_dists_second=D1_RR[:,1]\n",
    "face_dups_left = (left_dists_second<=.4)\n",
    "face_dups_right = (right_dists_second<=.4)\n",
    "face_feature_dups=dict(face_dups_left=face_dups_left,face_dups_right=face_dups_right,left_dists_second=left_dists_second,right_dists_second=right_dists_second)\n",
    "\n",
    "# and do the same for the face dists....\n",
    "\n",
    "# do it with faces.\n",
    "face_dists_path = os.path.join(outputDir,'faces_dists.pkl') \n",
    "if os.path.isfile(face_dists_path):\n",
    "    face_dists = pickle.load(open(face_dists_path,'rb'))\n",
    "a = pickle.load(open(face_enc_path,'rb'))\n",
    "G=[]\n",
    "for z in a.keys():\n",
    "    G.append(os.path.join('/media/amir/newhd/TotallyLooksLike/Images/',z))\n",
    "\n",
    "a_face_dist = pickle.load(open(face_dists_path));\n",
    "a_face_dist = a_face_dist +100*eye(len(a_face_dist))\n",
    "cross_face_dists = a_face_dist.min(1)\n",
    "cross_face_mins = a_face_dist.argmin(1)"
   ]
  },
  {
   "cell_type": "code",
   "execution_count": 543,
   "metadata": {},
   "outputs": [],
   "source": [
    "####### Now, generic features.\n",
    "#cur_side = 'left_feats' if cur_side==side1 else 'right_feats'\n",
    "face_dists_path_inner_left = os.path.join(outputDir,'faces_generic_dists_inner_{}.pkl'.format(side1));\n",
    "face_dists = pickle.load(open(face_dists_path_inner_left,'rb'))\n",
    "D1_LL = deepcopy(face_dists['left_feats'])\n",
    "D1_LL.sort(1);\n",
    "face_dists_path_inner_right = os.path.join(outputDir,'faces_generic_dists_inner_{}.pkl'.format(side2));\n",
    "face_dists = pickle.load(open(face_dists_path_inner_right,'rb'))\n",
    "D1_RR = deepcopy(face_dists['right_feats'])\n",
    "D1_RR.sort(1);\n",
    "left_dists_second=D1_LL[:,1]\n",
    "right_dists_second=D1_RR[:,1]"
   ]
  },
  {
   "cell_type": "code",
   "execution_count": 544,
   "metadata": {},
   "outputs": [],
   "source": [
    "face_dups_left = (left_dists_second<=.15)\n",
    "face_dups_right = (right_dists_second<=.15)\n",
    "face_generic_feature_dups=dict(face_dups_left=face_dups_left,face_dups_right=face_dups_right,left_dists_second=left_dists_second,right_dists_second=right_dists_second)"
   ]
  },
  {
   "cell_type": "code",
   "execution_count": 547,
   "metadata": {},
   "outputs": [],
   "source": [
    "face_dists_path_inner_left = os.path.join(outputDir,'faces_dists_inner_{}.pkl'.format(side1)) \n",
    "face_dists = pickle.load(open(face_dists_path_inner_left,'rb'))\n",
    "D1_LL = deepcopy(face_dists[side1])"
   ]
  },
  {
   "cell_type": "code",
   "execution_count": 548,
   "metadata": {},
   "outputs": [],
   "source": [
    "face_dists_path_inner_left = os.path.join(outputDir,'faces_dists_inner_left_enc.pkl');\n",
    "face_dists = pickle.load(open(face_dists_path_inner_left,'rb'))\n",
    "D1_LL = deepcopy(face_dists['left_enc'])\n",
    "D1_LL = D1_LL+eye(len(D1_LL))*100;\n",
    "mins_face_left  = D1_LL.argmin(1)\n",
    "dists_face_left = D1_LL.min(1)"
   ]
  },
  {
   "cell_type": "code",
   "execution_count": 26,
   "metadata": {
    "collapsed": true
   },
   "outputs": [
    {
     "ename": "IOError",
     "evalue": "[Errno 2] No such file or directory: '/media/amir/newhd/TotallyLooksLike/results/faces_dists_inner_left_enc.pkl'",
     "output_type": "error",
     "traceback": [
      "\u001b[0;31m---------------------------------------------------------------------------\u001b[0m",
      "\u001b[0;31mIOError\u001b[0m                                   Traceback (most recent call last)",
      "\u001b[0;32m<ipython-input-26-cc899b77f668>\u001b[0m in \u001b[0;36m<module>\u001b[0;34m()\u001b[0m\n\u001b[1;32m      1\u001b[0m \u001b[0mface_dists_path_inner_left\u001b[0m \u001b[0;34m=\u001b[0m \u001b[0mos\u001b[0m\u001b[0;34m.\u001b[0m\u001b[0mpath\u001b[0m\u001b[0;34m.\u001b[0m\u001b[0mjoin\u001b[0m\u001b[0;34m(\u001b[0m\u001b[0moutputDir\u001b[0m\u001b[0;34m,\u001b[0m\u001b[0;34m'/media/amir/newhd/TotallyLooksLike/results/faces_dists_inner_left_enc.pkl'\u001b[0m\u001b[0;34m)\u001b[0m\u001b[0;34m;\u001b[0m\u001b[0;34m\u001b[0m\u001b[0m\n\u001b[0;32m----> 2\u001b[0;31m \u001b[0mface_dists\u001b[0m \u001b[0;34m=\u001b[0m \u001b[0mpickle\u001b[0m\u001b[0;34m.\u001b[0m\u001b[0mload\u001b[0m\u001b[0;34m(\u001b[0m\u001b[0mopen\u001b[0m\u001b[0;34m(\u001b[0m\u001b[0mface_dists_path_inner_left\u001b[0m\u001b[0;34m,\u001b[0m\u001b[0;34m'rb'\u001b[0m\u001b[0;34m)\u001b[0m\u001b[0;34m)\u001b[0m\u001b[0;34m\u001b[0m\u001b[0m\n\u001b[0m\u001b[1;32m      3\u001b[0m \u001b[0mD1_LL\u001b[0m \u001b[0;34m=\u001b[0m \u001b[0mdeepcopy\u001b[0m\u001b[0;34m(\u001b[0m\u001b[0mface_dists\u001b[0m\u001b[0;34m[\u001b[0m\u001b[0;34m'left_enc'\u001b[0m\u001b[0;34m]\u001b[0m\u001b[0;34m)\u001b[0m\u001b[0;34m\u001b[0m\u001b[0m\n\u001b[1;32m      4\u001b[0m \u001b[0mD1_LL\u001b[0m \u001b[0;34m=\u001b[0m \u001b[0mD1_LL\u001b[0m\u001b[0;34m+\u001b[0m\u001b[0meye\u001b[0m\u001b[0;34m(\u001b[0m\u001b[0mlen\u001b[0m\u001b[0;34m(\u001b[0m\u001b[0mD1_LL\u001b[0m\u001b[0;34m)\u001b[0m\u001b[0;34m)\u001b[0m\u001b[0;34m*\u001b[0m\u001b[0;36m100\u001b[0m\u001b[0;34m;\u001b[0m\u001b[0;34m\u001b[0m\u001b[0m\n\u001b[1;32m      5\u001b[0m \u001b[0mmins_face_left\u001b[0m  \u001b[0;34m=\u001b[0m \u001b[0mD1_LL\u001b[0m\u001b[0;34m.\u001b[0m\u001b[0margmin\u001b[0m\u001b[0;34m(\u001b[0m\u001b[0;36m1\u001b[0m\u001b[0;34m)\u001b[0m\u001b[0;34m\u001b[0m\u001b[0m\n",
      "\u001b[0;31mIOError\u001b[0m: [Errno 2] No such file or directory: '/media/amir/newhd/TotallyLooksLike/results/faces_dists_inner_left_enc.pkl'"
     ]
    }
   ],
   "source": [
    "#makeDupsGallery(dists_face_left,mins_face_left,1.5,'faces_LL',[0,0])"
   ]
  },
  {
   "cell_type": "code",
   "execution_count": 549,
   "metadata": {},
   "outputs": [],
   "source": [
    "face_dists_path_inner_right = os.path.join(outputDir,'faces_dists_inner_right_enc.pkl');\n",
    "face_dists = pickle.load(open(face_dists_path_inner_right,'rb'))\n",
    "D1_RR = deepcopy(face_dists['right_enc'])\n",
    "D1_RR = D1_RR+eye(len(D1_LL))*100;\n",
    "mins_face_right  = D1_RR.argmin(1)\n",
    "dists_face_right = D1_RR.min(1)"
   ]
  },
  {
   "cell_type": "code",
   "execution_count": 550,
   "metadata": {},
   "outputs": [],
   "source": [
    "# 0.05\n",
    "face_thresh = 0.05"
   ]
  },
  {
   "cell_type": "code",
   "execution_count": 551,
   "metadata": {},
   "outputs": [],
   "source": [
    "face_dists_path_inner_right = os.path.join(outputDir,'faces_dists_inner_right_enc.pkl');\n",
    "face_dists = pickle.load(open(face_dists_path_inner_right,'rb'))"
   ]
  },
  {
   "cell_type": "code",
   "execution_count": 552,
   "metadata": {},
   "outputs": [],
   "source": [
    "D1_RR = deepcopy(face_dists['right_enc'])\n",
    "D1_RR = D1_RR+eye(len(D1_RR))*100;"
   ]
  },
  {
   "cell_type": "code",
   "execution_count": 553,
   "metadata": {},
   "outputs": [],
   "source": [
    "mins_face  = D1_RR.argmin(1)\n",
    "dists_face = D1_RR.min(1)"
   ]
  },
  {
   "cell_type": "code",
   "execution_count": 555,
   "metadata": {},
   "outputs": [],
   "source": [
    "face_dups = logical_or(mins_face_left <=.4,mins_face_right<=.4)"
   ]
  },
  {
   "cell_type": "code",
   "execution_count": 556,
   "metadata": {},
   "outputs": [
    {
     "data": {
      "text/plain": [
       "3206"
      ]
     },
     "execution_count": 556,
     "metadata": {},
     "output_type": "execute_result"
    }
   ],
   "source": [
    "face_dups.sum()"
   ]
  },
  {
   "cell_type": "code",
   "execution_count": 561,
   "metadata": {},
   "outputs": [],
   "source": [
    "all_dups_path = os.path.join(baseDir,'results/dup.pkl')\n",
    "if not os.path.isfile(all_dups_path):\n",
    "    dup_dict = dict(is_dup_right=is_dup_right,face_dups=face_dups)\n",
    "    \n",
    "    pickle.dump(dup_dict,open(all_dups_path,'wb'),protocol=2)\n",
    "else:\n",
    "    dup_dict = pickle.load(open(all_dups_path))"
   ]
  },
  {
   "cell_type": "code",
   "execution_count": 562,
   "metadata": {},
   "outputs": [],
   "source": [
    "#L = stack(a['rightResults'])\n",
    "curOutPath=os.path.join(baseDir,'results/densenet121.pkl')\n",
    "a = pickle.load(open(curOutPath))\n",
    "L = stack(a['leftResults'])"
   ]
  },
  {
   "cell_type": "code",
   "execution_count": null,
   "metadata": {
    "collapsed": true
   },
   "outputs": [],
   "source": [
    "# Do this for faces, too : find sets of duplicate faces...."
   ]
  },
  {
   "cell_type": "code",
   "execution_count": 563,
   "metadata": {},
   "outputs": [],
   "source": [
    "face_enc_path = os.path.join(outputDir,'face_encodings.pkl')\n",
    "#/media/amir/newhd/TotallyLooksLike/results/face_encodings.pkl_2\n",
    "a_face = pickle.load(open(face_enc_path,'rb'))\n",
    "has_face = {}\n",
    "for k,v in a_face.items():\n",
    "    has_face[k] = max(len(v['left_enc']),len(v['right_enc'])) \n",
    "new_sel=[]\n",
    "for k in a['G']:\n",
    "    new_sel.append(has_face[k.split('/')[-1]]==1)\n",
    "sel_face=array(new_sel)"
   ]
  },
  {
   "cell_type": "markdown",
   "metadata": {},
   "source": [
    "# ok, now calculate distances for each pair of images for each pair of faces within, skipping images with no faces (set their face distance to INF). Note this is done only for the L2 distance"
   ]
  },
  {
   "cell_type": "code",
   "execution_count": 564,
   "metadata": {},
   "outputs": [],
   "source": [
    "sns.set_style('ticks')\n",
    "sns.set_context('paper',font_scale=2)"
   ]
  },
  {
   "cell_type": "code",
   "execution_count": 565,
   "metadata": {},
   "outputs": [],
   "source": [
    "networkName = 'densenet121'\n",
    "curOutPath = os.path.join(outputDir,networkName+'.pkl')\n",
    "dists_out_path = curOutPath+'.dist'\n",
    "a = pickle.load(open(dists_out_path))"
   ]
  },
  {
   "cell_type": "code",
   "execution_count": 566,
   "metadata": {},
   "outputs": [],
   "source": [
    "import pandas as pd\n",
    "df = pd.read_csv(os.path.join(baseDir,'Votes/test2.csv'))\n",
    "#df.sort_values('id').wins"
   ]
  },
  {
   "cell_type": "markdown",
   "metadata": {},
   "source": [
    "# Test any correlation between cosine distance and upvotes on website"
   ]
  },
  {
   "cell_type": "code",
   "execution_count": 567,
   "metadata": {
    "collapsed": true
   },
   "outputs": [
    {
     "data": {
      "image/png": "[encoded data removed]",
      "text/plain": [
       "<Figure size 432x432 with 3 Axes>"
      ]
     },
     "metadata": {},
     "output_type": "display_data"
    }
   ],
   "source": [
    "import seaborn as sns\n",
    "sns.set_style('ticks')\n",
    "sns.set_context('paper',font_scale=2)\n",
    "#ax = sns.kdeplot(ff/max(ff), ww/max(ww), shade=False,n_levels=10)\n",
    "zz = df.sort_values('id').wins.map(float)\n",
    "zz_L=df.sort_values('id').fails.map(float)\n",
    "zz = array(zz)\n",
    "ax=sns.jointplot(zz,diag(a['D_cosine']),  kind=\"kde\")#,xlim=[1.5,3.5],ylim=[.4,3])\n",
    "#xlabe\n",
    "#ax.set(xlim=[0,.5],ylim=[0,.5])\n",
    "\n",
    "#ax.set_axis_labels(xlabel='$log10(wins)$',ylabel='$log10(fails)$') "
   ]
  },
  {
   "cell_type": "code",
   "execution_count": 568,
   "metadata": {},
   "outputs": [
    {
     "data": {
      "text/plain": [
       "SpearmanrResult(correlation=-0.07543714468885346, pvalue=4.677570319625186e-09)"
      ]
     },
     "execution_count": 568,
     "metadata": {},
     "output_type": "execute_result"
    }
   ],
   "source": [
    "from scipy.stats import spearmanr,pearsonr\n",
    "scores = diag(a['D_cosine'])\n",
    "spearmanr(zz_L ,scores)"
   ]
  },
  {
   "cell_type": "code",
   "execution_count": 584,
   "metadata": {},
   "outputs": [
    {
     "name": "stdout",
     "output_type": "stream",
     "text": [
      "resnet18\n",
      "resnet50\n",
      "vgg16\n",
      "densenet201\n",
      "densenet121\n",
      "resnet152\n",
      "densenet169\n",
      "alexnet\n"
     ]
    }
   ],
   "source": [
    "zs = []\n",
    "for networkName,networkFun in networks.items():\n",
    "    print networkName\n",
    "    curOutPath = os.path.join(outputDir,networkName+'.pkl')\n",
    "    dists_out_path = curOutPath+'.dist'\n",
    "    a = pickle.load(open(dists_out_path))\n",
    "    for k in ['D_cosine','D_euclid']:\n",
    "        D = a[k]\n",
    "        D_sorted=D.argsort(axis=1)\n",
    "        #N=float(len(D))\n",
    "        N=len(D)\n",
    "        D_true = array(range(N)).reshape(N,1)\n",
    "        d=((D_sorted==D_true).sum(0)).astype(float)\n",
    "        #plot(arange(0,1,1./N), cumsum(d)/sum(d))#,xlabel='index')#,ylabel=)\n",
    "        # plot the recall at different points.    \n",
    "        zz=cumsum(sum(D_sorted==D_true,0))\n",
    "        zs.append((networkName,k,zz))    \n",
    "if False:\n",
    "    N = float(N)\n",
    "    print 'recall @ 0,5,10,100:',100*zz[[0,4,9,99]]/N\n",
    "    z=nonzero(D_sorted==D_true)[1]\n",
    "    aa=hist(z[z<=inf],100,normed=True,cumulative=True,histtype='step',linewidth=2)\n",
    "    xlabel('no images');\n",
    "    ylabel('$p(hit)$');"
   ]
  },
  {
   "cell_type": "code",
   "execution_count": 570,
   "metadata": {},
   "outputs": [
    {
     "data": {
      "image/png": "[encoded data removed]",
      "text/plain": [
       "<Figure size 432x288 with 1 Axes>"
      ]
     },
     "metadata": {},
     "output_type": "display_data"
    }
   ],
   "source": [
    "#%pylab inline\n",
    "map_net_type = lambda x:x.replace('resnet','Res').replace('densenet','Den')\n",
    "euclids = []\n",
    "coss = []\n",
    "types = []\n",
    "for net_type,dist_type,recalls in zs:\n",
    "    if dist_type=='D_cosine':\n",
    "        coss.append(recalls)\n",
    "        types.append(map_net_type(net_type))\n",
    "    else:\n",
    "        euclids.append(recalls)    \n",
    "from matplotlib.font_manager import FontProperties\n",
    "fontP = FontProperties()\n",
    "fontP.set_size('large') \n",
    "# large, medium, smaller, None, small, x-large, xx-small, larger, x-small, xx-large\n",
    "#plot( (array(coss)-array(euclids)).T);legend(types,ncol=1,fancybox=True,shadow=True,prop=fontP)\n",
    "plot( (array(coss)-array(euclids)).T);legend(types,ncol=1,fancybox=True,shadow=True,prop=fontP)\n",
    "xlabel('no. image')\n",
    "ylabel('recall(COS-L2)')\n",
    "if toSaveFigures:\n",
    "  savefig(os.path.join(saveFigsBaseDir,'recall_COS_vs_L2.pdf'),bbox_inches='tight')\n"
   ]
  },
  {
   "cell_type": "code",
   "execution_count": 572,
   "metadata": {},
   "outputs": [
    {
     "data": {
      "image/png": "[encoded data removed]",
      "text/plain": [
       "<Figure size 432x288 with 2 Axes>"
      ]
     },
     "metadata": {},
     "output_type": "display_data"
    }
   ],
   "source": [
    "sns.set_context('paper',font_scale=2)\n",
    "sns.set_style('ticks')\n",
    "nb = 0\n",
    "#z1 = [q[2] for q in zs[2*nb:2*nb+2]]\n",
    "#z1 = [q[2] for q in zs[::2]]\n",
    "zs1 = [q for q in zs if q[1]=='D_cosine']\n",
    "z1 = [q[2] for q in zs1]# if q[1]=='D_cosine']\n",
    "mm=1\n",
    "nn=2\n",
    "subplot(mm,nn,1);plot(array(z1).T/float(N),'-'); \n",
    "xs = range(0,N,2000)\n",
    "labels=map(lambda x: str(x/1000)+'K' if x > 0 else '0',xs)\n",
    "xlabel('no. images');xticks(xs,labels,rotation=0)\n",
    "ylabel('recall')\n",
    "xs = [0,5,10,20]\n",
    "subplot(mm,nn,2);plot(array(z1).T[xs,:]/float(N),'-o');xticks(range(len(xs)),[str(x) for x in xs])\n",
    "xlabel('no. images');\n",
    "#legend_values=[map_net_type(q[0])+' / '+ d1[q[1]] for q in zs1]\n",
    "legend_values=[map_net_type(q[0]) for q in zs1]\n",
    "d1 = {'D_cosine':'COS','D_euclid':'L2'}\n",
    "gca().legend(legend_values,loc='center left',bbox_to_anchor=(1, .5),ncol=1)#, fancybox=True, shadow=True)\n",
    "plt.tight_layout();\n",
    "if toSaveFigures:\n",
    "  savefig(os.path.join(saveFigsBaseDir,'recall_and_zoom_without_duplicates.pdf'),bbox_inches='tight')\n",
    "#legend(legend_values,loc='right')\n"
   ]
  },
  {
   "cell_type": "code",
   "execution_count": 695,
   "metadata": {},
   "outputs": [
    {
     "name": "stdout",
     "output_type": "stream",
     "text": [
      "('number of images afer de-duplication:', 1828)\n",
      "resnet18\n",
      "resnet50\n",
      "vgg16\n",
      "densenet201\n",
      "densenet121\n",
      "resnet152\n",
      "densenet169\n",
      "alexnet\n"
     ]
    }
   ],
   "source": [
    "#all_dups = is_dup_right | is_dup_left | face_dups | (cross_dists <= .15)# | (cross_face_dists <= .4)\n",
    "right_generic_thresh=.1\n",
    "is_dup_right = dists_right <=right_generic_thresh\n",
    "is_dup_left = dists_left <=right_generic_thresh\n",
    "all_dups = is_dup_right | is_dup_left | face_dups | (cross_dists <= .15) | (cross_face_dists <= .4)\n",
    "zs = []\n",
    "sel = logical_not(all_dups)\n",
    "print('number of images afer de-duplication:',sum(sel))\n",
    "#sel = logical_and(sel,~sel_face)\n",
    "for networkName,networkFun in networks.items():\n",
    "    print networkName\n",
    "    #if networkName!='densenet121':\n",
    "    #    continue\n",
    "    curOutPath = os.path.join(outputDir,networkName+'.pkl')\n",
    "    dists_out_path = curOutPath+'.dist'\n",
    "    a = pickle.load(open(dists_out_path))\n",
    "    G = array(a['G'])\n",
    "    k = 'D_cosine'    \n",
    "    for k in ['D_cosine']:\n",
    "        D = a[k]\n",
    "        D = a[k]\n",
    "        D = D[sel]\n",
    "        D = D[:,sel]        \n",
    "        D_sorted=D.argsort(axis=1)\n",
    "        #N=float(len(D))\n",
    "        N=len(D)\n",
    "        D_true = array(range(N)).reshape(N,1)\n",
    "        d=((D_sorted==D_true).sum(0)).astype(float)\n",
    "        #plot(arange(0,1,1./N), cumsum(d)/sum(d))#,xlabel='index')#,ylabel=)\n",
    "        # plot the recall at different points.    \n",
    "        zz=cumsum(sum(D_sorted==D_true,0))\n",
    "        zs.append((networkName,k,zz))    \n",
    "    #break\n",
    "if False:\n",
    "    N = float(N)\n",
    "    print 'recall @ 0,5,10,100:',100*zz[[0,4,9,99]]/N\n",
    "    z=nonzero(D_sorted==D_true)[1]\n",
    "    aa=hist(z[z<=inf],100,normed=True,cumulative=True,histtype='step',linewidth=2)\n",
    "    xlabel('no images');\n",
    "    ylabel('$p(hit)$');"
   ]
  },
  {
   "cell_type": "code",
   "execution_count": 696,
   "metadata": {},
   "outputs": [],
   "source": [
    "def plotDistanceFigures(zs):\n",
    "    import seaborn as sns\n",
    "    map_net_type = lambda x:x.replace('resnet','Res').replace('densenet','Den')\n",
    "    sns.set_context('paper',font_scale=2)\n",
    "    sns.set_style('ticks')\n",
    "    nb = 0\n",
    "    #z1 = [q[2] for q in zs[2*nb:2*nb+2]]\n",
    "    #z1 = [q[2] for q in zs[::2]]\n",
    "    zs1 = [q for q in zs if q[1]=='D_cosine']\n",
    "    z1 = [q[2] for q in zs1]# if q[1]=='D_cosine']\n",
    "    mm=1\n",
    "    nn=2\n",
    "    subplot(mm,nn,1);plot(array(z1).T/float(N),'-'); \n",
    "    Q=700\n",
    "    xs = range(0,N,Q)\n",
    "    labels=map(lambda x: str(x) if x > 0 else '0',xs)\n",
    "    xlabel('no. images');xticks(xs,labels,rotation=0)\n",
    "    ylabel('recall')\n",
    "    xs = [0,4,9,19]\n",
    "    subplot(mm,nn,2);plot(array(z1).T[xs,:]/float(N),'-o');xticks(range(len(xs)),[str(x+1) for x in xs])\n",
    "    xlabel('no. images');\n",
    "    #legend_values=[map_net_type(q[0])+' / '+ d1[q[1]] for q in zs1]\n",
    "    legend_values=[map_net_type(q[0]) for q in zs1]\n",
    "    d1 = {'D_cosine':'COS','D_euclid':'L2'}\n",
    "    gca().legend(legend_values,loc='center left',bbox_to_anchor=(1, .5),ncol=1)#, fancybox=True, shadow=True)\n",
    "    plt.tight_layout();\n",
    "    return z1,xs"
   ]
  },
  {
   "cell_type": "code",
   "execution_count": 697,
   "metadata": {},
   "outputs": [
    {
     "data": {
      "image/png": "[encoded data removed]",
      "text/plain": [
       "<Figure size 432x288 with 2 Axes>"
      ]
     },
     "metadata": {},
     "output_type": "display_data"
    }
   ],
   "source": [
    "z1,xs=plotDistanceFigures(zs)\n",
    "if toSaveFigures:\n",
    "  savefig(os.path.join(saveFigsBaseDir,'recall_and_zoom_without_duplicates.pdf'),bbox_inches='tight')\n",
    "##legend(legend_values,loc='right')"
   ]
  },
  {
   "cell_type": "markdown",
   "metadata": {},
   "source": [
    "# Produce Table 1 from paper"
   ]
  },
  {
   "cell_type": "code",
   "execution_count": 698,
   "metadata": {},
   "outputs": [
    {
     "data": {
      "text/html": [
       "<div>\n",
       "<style scoped>\n",
       "    .dataframe tbody tr th:only-of-type {\n",
       "        vertical-align: middle;\n",
       "    }\n",
       "\n",
       "    .dataframe tbody tr th {\n",
       "        vertical-align: top;\n",
       "    }\n",
       "\n",
       "    .dataframe thead th {\n",
       "        text-align: right;\n",
       "    }\n",
       "</style>\n",
       "<table border=\"1\" class=\"dataframe\">\n",
       "  <thead>\n",
       "    <tr style=\"text-align: right;\">\n",
       "      <th></th>\n",
       "      <th>R@1</th>\n",
       "      <th>R@5</th>\n",
       "      <th>R@10</th>\n",
       "      <th>R@20</th>\n",
       "      <th>R@50</th>\n",
       "      <th>R@100</th>\n",
       "    </tr>\n",
       "  </thead>\n",
       "  <tbody>\n",
       "    <tr>\n",
       "      <th>alexnet</th>\n",
       "      <td>3.67</td>\n",
       "      <td>8.53</td>\n",
       "      <td>11.71</td>\n",
       "      <td>14.99</td>\n",
       "      <td>22.59</td>\n",
       "      <td>30.63</td>\n",
       "    </tr>\n",
       "    <tr>\n",
       "      <th>vgg16</th>\n",
       "      <td>3.77</td>\n",
       "      <td>7.88</td>\n",
       "      <td>12.04</td>\n",
       "      <td>16.90</td>\n",
       "      <td>24.02</td>\n",
       "      <td>32.39</td>\n",
       "    </tr>\n",
       "    <tr>\n",
       "      <th>Res50</th>\n",
       "      <td>4.38</td>\n",
       "      <td>10.23</td>\n",
       "      <td>14.44</td>\n",
       "      <td>19.58</td>\n",
       "      <td>28.77</td>\n",
       "      <td>36.71</td>\n",
       "    </tr>\n",
       "    <tr>\n",
       "      <th>Res152</th>\n",
       "      <td>4.98</td>\n",
       "      <td>10.28</td>\n",
       "      <td>13.89</td>\n",
       "      <td>18.38</td>\n",
       "      <td>26.20</td>\n",
       "      <td>35.61</td>\n",
       "    </tr>\n",
       "    <tr>\n",
       "      <th>Den201</th>\n",
       "      <td>5.47</td>\n",
       "      <td>11.82</td>\n",
       "      <td>16.14</td>\n",
       "      <td>20.84</td>\n",
       "      <td>30.47</td>\n",
       "      <td>38.18</td>\n",
       "    </tr>\n",
       "    <tr>\n",
       "      <th>Res18</th>\n",
       "      <td>5.53</td>\n",
       "      <td>11.32</td>\n",
       "      <td>14.50</td>\n",
       "      <td>19.31</td>\n",
       "      <td>28.06</td>\n",
       "      <td>35.61</td>\n",
       "    </tr>\n",
       "    <tr>\n",
       "      <th>Den169</th>\n",
       "      <td>5.69</td>\n",
       "      <td>12.25</td>\n",
       "      <td>15.59</td>\n",
       "      <td>19.09</td>\n",
       "      <td>28.67</td>\n",
       "      <td>37.53</td>\n",
       "    </tr>\n",
       "    <tr>\n",
       "      <th>Den121</th>\n",
       "      <td>5.80</td>\n",
       "      <td>12.31</td>\n",
       "      <td>16.47</td>\n",
       "      <td>21.39</td>\n",
       "      <td>29.92</td>\n",
       "      <td>38.89</td>\n",
       "    </tr>\n",
       "  </tbody>\n",
       "</table>\n",
       "</div>"
      ],
      "text/plain": [
       "          R@1    R@5   R@10   R@20   R@50  R@100\n",
       "alexnet  3.67   8.53  11.71  14.99  22.59  30.63\n",
       "vgg16    3.77   7.88  12.04  16.90  24.02  32.39\n",
       "Res50    4.38  10.23  14.44  19.58  28.77  36.71\n",
       "Res152   4.98  10.28  13.89  18.38  26.20  35.61\n",
       "Den201   5.47  11.82  16.14  20.84  30.47  38.18\n",
       "Res18    5.53  11.32  14.50  19.31  28.06  35.61\n",
       "Den169   5.69  12.25  15.59  19.09  28.67  37.53\n",
       "Den121   5.80  12.31  16.47  21.39  29.92  38.89"
      ]
     },
     "execution_count": 698,
     "metadata": {},
     "output_type": "execute_result"
    }
   ],
   "source": [
    "TT=(array(z1).T[xs+[49,99],:]/float(N))\n",
    "TT = TT.T\n",
    "import pandas as pd\n",
    "df=pd.DataFrame(around(100*TT,2),index=legend_values,columns=['R@'+str(p+1) for p in (xs+[49,99])])\n",
    "df=df.sort_values('R@1')\n",
    "df"
   ]
  },
  {
   "cell_type": "code",
   "execution_count": 699,
   "metadata": {},
   "outputs": [],
   "source": [
    "if False:\n",
    "  with open(\"my_table1.tex\", \"w\") as f:\n",
    "      f.write('\\\\documentclass{article}\\n\\\n",
    "      \\n\\\\usepackage{booktabs}\\n\\\n",
    "          \\\\begin{document}\\n')\n",
    "      f.write(df.to_latex())\n",
    "      f.write('\\\\end{document}')"
   ]
  },
  {
   "cell_type": "code",
   "execution_count": 700,
   "metadata": {
    "scrolled": true
   },
   "outputs": [
    {
     "name": "stderr",
     "output_type": "stream",
     "text": [
      "/home/amir/anaconda2/envs/universe/lib/python2.7/site-packages/ipykernel/__main__.py:8: MatplotlibDeprecationWarning: The find function was deprecated in version 2.2.\n"
     ]
    },
    {
     "name": "stdout",
     "output_type": "stream",
     "text": [
      "percentage @1,5,10,20\n"
     ]
    },
    {
     "data": {
      "text/plain": [
       "array([ 3.06049822,  5.65836299,  8.14946619, 11.49466192])"
      ]
     },
     "execution_count": 700,
     "metadata": {},
     "output_type": "execute_result"
    }
   ],
   "source": [
    "# involve face distance as well.\n",
    "face_generic_dists_path = os.path.join(outputDir,'faces_generic_dists.pkl') \n",
    "aa = pickle.load(open(face_generic_dists_path))\n",
    "# calculate the stuff for the faces.\n",
    "# exclude faces where images did not include any faces.\n",
    "selection_ = diag(aa < 100)\n",
    "aa1=aa[selection_]\n",
    "D_true=find(selection_)\n",
    "NN = len(D_true)\n",
    "D_true = D_true.reshape(NN,1)\n",
    "D_sorted = aa1.argsort(1)\n",
    "zz=cumsum(sum(D_sorted==D_true,0))\n",
    "print 'percentage @1,5,10,20'\n",
    "100*zz[[1,5,10,20]]/float(NN) # array([ 2.95373665,  5.72953737,  7.61565836, 11.31672598])\n",
    "# same for specific face features."
   ]
  },
  {
   "cell_type": "code",
   "execution_count": 703,
   "metadata": {},
   "outputs": [],
   "source": [
    "# And again, this time without faces either!\n",
    "# Let's do this again, this time remove all the near duplicates - with a threshold of .15\n",
    "zs = []\n",
    "#sel = logical_and(~sel_face,sel_dup)\n",
    "all_dups = is_dup_right | is_dup_left | face_dups | (cross_dists <= .15) | (cross_face_dists <= .4)\n",
    "sel_no_faces = (~is_dup_right & ~is_dup_left &  ~sel_face)\n",
    "#sel = ~all_dups | sel_no_faces\n",
    "sel = sel_no_faces"
   ]
  },
  {
   "cell_type": "code",
   "execution_count": 704,
   "metadata": {},
   "outputs": [
    {
     "data": {
      "text/plain": [
       "1622"
      ]
     },
     "execution_count": 704,
     "metadata": {},
     "output_type": "execute_result"
    }
   ],
   "source": [
    "sum(sel)"
   ]
  },
  {
   "cell_type": "code",
   "execution_count": 705,
   "metadata": {},
   "outputs": [
    {
     "name": "stdout",
     "output_type": "stream",
     "text": [
      "('number of selected images excluding faces and duplicates :', 1622)\n",
      "resnet18\n",
      "resnet50\n",
      "vgg16\n",
      "densenet201\n",
      "densenet121\n",
      "resnet152\n",
      "densenet169\n",
      "alexnet\n"
     ]
    }
   ],
   "source": [
    "print('number of selected images excluding faces and duplicates :',sum(sel_no_faces))\n",
    "for networkName,networkFun in networks.items():\n",
    "    print networkName\n",
    "    curOutPath = os.path.join(outputDir,networkName+'.pkl')\n",
    "    dists_out_path = curOutPath+'.dist'\n",
    "    a = pickle.load(open(dists_out_path))\n",
    "    G = array(a['G'])\n",
    "    k = 'D_cosine'    \n",
    "    for k in ['D_cosine']:\n",
    "        D = a[k]\n",
    "        D = D[sel]\n",
    "        D = D[:,sel]\n",
    "        D_sorted=D.argsort(axis=1)\n",
    "        #N=float(len(D))\n",
    "        N=len(D)\n",
    "        D_true = array(range(N)).reshape(N,1)\n",
    "        d=((D_sorted==D_true).sum(0)).astype(float)\n",
    "        #plot(arange(0,1,1./N), cumsum(d)/sum(d))#,xlabel='index')#,ylabel=)\n",
    "        # plot the recall at different points.    \n",
    "        zz=cumsum(sum(D_sorted==D_true,0))\n",
    "        zs.append((networkName,k,zz))    \n",
    "if False:\n",
    "    N = float(N)\n",
    "    print 'recall @ 0,5,10,100:',100*zz[[0,4,9,99]]/N\n",
    "    z=nonzero(D_sorted==D_true)[1]\n",
    "    aa=hist(z[z<=inf],100,normed=True,cumulative=True,histtype='step',linewidth=2)\n",
    "    xlabel('no images');\n",
    "    ylabel('$p(hit)$');"
   ]
  },
  {
   "cell_type": "markdown",
   "metadata": {},
   "source": [
    "no faces: sel_obj = (~is_dup_right & ~is_dup_left &  ~sel_face) \n",
    "no dups: sel_d = ~is_dup_right &~ is_dup_left &~ (cross_dists <= .15)  &~ face_dups &~ (cross_face_dists <= .4) "
   ]
  },
  {
   "cell_type": "markdown",
   "metadata": {},
   "source": [
    "query_data\n",
    "⮡no_faces\n",
    "   ⮡random   \n",
    "    ⮡human_query_paths  \n",
    "    ⮡human_query_targets\n",
    "    \n",
    "    ⮡all_sels\n",
    "    ⮡all_sels_f\n",
    "  ⮡sort_D\n",
    "    ⮡human_query_paths \n",
    "    ⮡human_query_targets\n",
    "    ⮡all_sels\n",
    "    ⮡all_sels_f\n",
    "⮡no_dups\n",
    "    ⮡random\n",
    "      ⮡...\n",
    "    ⮡sort_D\n",
    "      ⮡...\n",
    "    ⮡sort_F\n",
    "      ⮡...\n",
    "    ⮡sort_F_generic\n",
    "      ⮡...      "
   ]
  }
 ],
 "metadata": {
  "anaconda-cloud": {},
  "kernelspec": {
   "display_name": "Python [conda env:universe]",
   "language": "python",
   "name": "conda-env-universe-py"
  },
  "language_info": {
   "codemirror_mode": {
    "name": "ipython",
    "version": 2
   },
   "file_extension": ".py",
   "mimetype": "text/x-python",
   "name": "python",
   "nbconvert_exporter": "python",
   "pygments_lexer": "ipython2",
   "version": "2.7.14"
  },
  "toc": {
   "base_numbering": 1,
   "nav_menu": {
    "height": "274px",
    "width": "382px"
   },
   "number_sections": true,
   "sideBar": true,
   "skip_h1_title": false,
   "title_cell": "Table of Contents",
   "title_sidebar": "Contents",
   "toc_cell": false,
   "toc_position": {},
   "toc_section_display": "block",
   "toc_window_display": false
  }
 },
 "nbformat": 4,
 "nbformat_minor": 1
}
